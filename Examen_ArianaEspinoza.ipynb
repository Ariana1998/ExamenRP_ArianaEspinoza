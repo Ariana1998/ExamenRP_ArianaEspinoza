{
  "cells": [
    {
      "cell_type": "markdown",
      "metadata": {},
      "source": [
        "# Evaluación Reconocimiento de Patrones\n",
        "Ariana Espinoza"
      ]
    },
    {
      "cell_type": "markdown",
      "metadata": {},
      "source": [
        "<style>\n",
        "    .imagen-ajustada {\n",
        "        width: 900px;\n",
        "        height: 280px;\n",
        "        border-radius: 20px;\n",
        "    }\n",
        "</style>\n",
        "\n",
        "<img src=\"Arboles.jpg\" alt=\"Una imagen\" class=\"imagen-ajustada\">"
      ]
    },
    {
      "cell_type": "markdown",
      "metadata": {},
      "source": [
        "Para el ejercicio del examen se pidió utilizar el conjunto de datos el cual tiene 54 características, las cuales se obtuvieron de observaciones de terrenos en el bosque. Esto se realizó con el fin de predecir el tipo de cubierta del terreno. Los datos están en forma cruda (no escalados) y contienen columnas binarias (0 o 1) de datos para variables cualitativas independientes (áreas silvestres y tipos de suelo). Estas áreas representan bosques con mínimas perturbaciones causadas por el hombre, de modo que los tipos de cubierta forestal existentes son más el resultado de procesos ecológicos que de prácticas de manejo forestal.\n",
        "\n",
        "Las áreas están designadas de la siguiente manera: Neota (área 2) probablemente tiene el valor de elevación promedio más alto de las 4 áreas silvestres. Rawah (área 1) y Comanche Peak (área 3) tendrían un valor de elevación medio más bajo, mientras que Cache la Poudre (área 4) tendría el valor de elevación medio más bajo. En cuanto a las principales especies de árboles en estas áreas, Neota tendría spruce/fir (tipo 1), mientras que Rawah y Comanche Peak probablemente tendrían lodgepole pine (tipo 2) como su especie principal, seguido por spruce/fir y aspen (tipo 5). Cache la Poudre tendería a tener Ponderosa pine (tipo 3), Douglas-fir (tipo 6) y cottonwood/willow (tipo 4).   \n",
        "\n",
        "Para el ejercicio del examen se pidió hacer un estudio evaluando el rendimiento de SVM, K-vecinos, árboles de decisión, Random Forest, Redes neuronales y gradient boosting classifier. Reportar evaluaciones de los clasificadores individuales y de un ensamble usando sklearn.metrics.classification_report y sklearn.ensemble.VotingClassifier, comentar sobre los resultados."
      ]
    },
    {
      "cell_type": "markdown",
      "metadata": {},
      "source": [
        "## Importando Librerías Necesarias"
      ]
    },
    {
      "cell_type": "code",
      "execution_count": 1,
      "metadata": {
        "id": "uQO7soXpCYGv"
      },
      "outputs": [],
      "source": [
        "import pandas as pd\n",
        "from sklearn.model_selection import train_test_split\n",
        "from sklearn.preprocessing import StandardScaler\n",
        "from sklearn.svm import SVC\n",
        "from sklearn.neighbors import KNeighborsClassifier\n",
        "from sklearn.tree import DecisionTreeClassifier\n",
        "from sklearn.ensemble import RandomForestClassifier, GradientBoostingClassifier, VotingClassifier\n",
        "from sklearn.neural_network import MLPClassifier\n",
        "from sklearn.metrics import classification_report"
      ]
    },
    {
      "cell_type": "markdown",
      "metadata": {},
      "source": [
        "# Cargando los datos"
      ]
    },
    {
      "cell_type": "markdown",
      "metadata": {},
      "source": [
        "Para acceder a los datos decidí traerlos por medio de un URL para evitar complicaciones al momento de acceder a ellos, sin embargo me di cuenta que tardaba un poco al momento de extraerlos, por lo que decidí guardarlo en un archivo .CSV para que fuera más fácil llamarlos. Además se le pone nombre a cada columna para que no aparezca por números."
      ]
    },
    {
      "cell_type": "code",
      "execution_count": 2,
      "metadata": {
        "id": "5tZNUNdyC3NW"
      },
      "outputs": [],
      "source": [
        "url = \"https://archive.ics.uci.edu/ml/machine-learning-databases/covtype/covtype.data.gz\"\n",
        "column_names = [\"Elevation\", \"Aspect\", \"Slope\", \"Horizontal_Distance_To_Hydrology\",\n",
        "                \"Vertical_Distance_To_Hydrology\", \"Horizontal_Distance_To_Roadways\",\n",
        "                \"Hillshade_9am\", \"Hillshade_Noon\", \"Hillshade_3pm\",\n",
        "                \"Horizontal_Distance_To_Fire_Points\"] + [f\"Wilderness_Area_{i}\" for i in range(4)] + \\\n",
        "                [f\"Soil_Type_{i}\" for i in range(40)] + [\"Cover_Type\"]\n",
        "datos = pd.read_csv(url, header=None, names=column_names)"
      ]
    },
    {
      "cell_type": "code",
      "execution_count": 3,
      "metadata": {
        "id": "ncmhMaDOztc2"
      },
      "outputs": [],
      "source": [
        "# Con base a los datos que se trajeron por medio de la URL, se crea el archivo .CSV\n",
        "datos.to_csv(\"covertype_datos.csv\", index=False)"
      ]
    },
    {
      "cell_type": "code",
      "execution_count": 4,
      "metadata": {
        "id": "jnFq9lntz6Ge"
      },
      "outputs": [],
      "source": [
        "# Se lee el archivo .CSV para utilizarlo con el entrenamiento de datos.\n",
        "datosArchivo = pd.read_csv(\"covertype_datos.csv\")"
      ]
    },
    {
      "cell_type": "code",
      "execution_count": 5,
      "metadata": {
        "colab": {
          "base_uri": "https://localhost:8080/",
          "height": 255
        },
        "id": "wCE4fZFE0rxe",
        "outputId": "7d4ca454-2246-445d-91cd-150da6470903"
      },
      "outputs": [
        {
          "data": {
            "text/html": [
              "<div>\n",
              "<style scoped>\n",
              "    .dataframe tbody tr th:only-of-type {\n",
              "        vertical-align: middle;\n",
              "    }\n",
              "\n",
              "    .dataframe tbody tr th {\n",
              "        vertical-align: top;\n",
              "    }\n",
              "\n",
              "    .dataframe thead th {\n",
              "        text-align: right;\n",
              "    }\n",
              "</style>\n",
              "<table border=\"1\" class=\"dataframe\">\n",
              "  <thead>\n",
              "    <tr style=\"text-align: right;\">\n",
              "      <th></th>\n",
              "      <th>Elevation</th>\n",
              "      <th>Aspect</th>\n",
              "      <th>Slope</th>\n",
              "      <th>Horizontal_Distance_To_Hydrology</th>\n",
              "      <th>Vertical_Distance_To_Hydrology</th>\n",
              "      <th>Horizontal_Distance_To_Roadways</th>\n",
              "      <th>Hillshade_9am</th>\n",
              "      <th>Hillshade_Noon</th>\n",
              "      <th>Hillshade_3pm</th>\n",
              "      <th>Horizontal_Distance_To_Fire_Points</th>\n",
              "      <th>...</th>\n",
              "      <th>Soil_Type_31</th>\n",
              "      <th>Soil_Type_32</th>\n",
              "      <th>Soil_Type_33</th>\n",
              "      <th>Soil_Type_34</th>\n",
              "      <th>Soil_Type_35</th>\n",
              "      <th>Soil_Type_36</th>\n",
              "      <th>Soil_Type_37</th>\n",
              "      <th>Soil_Type_38</th>\n",
              "      <th>Soil_Type_39</th>\n",
              "      <th>Cover_Type</th>\n",
              "    </tr>\n",
              "  </thead>\n",
              "  <tbody>\n",
              "    <tr>\n",
              "      <th>0</th>\n",
              "      <td>2596</td>\n",
              "      <td>51</td>\n",
              "      <td>3</td>\n",
              "      <td>258</td>\n",
              "      <td>0</td>\n",
              "      <td>510</td>\n",
              "      <td>221</td>\n",
              "      <td>232</td>\n",
              "      <td>148</td>\n",
              "      <td>6279</td>\n",
              "      <td>...</td>\n",
              "      <td>0</td>\n",
              "      <td>0</td>\n",
              "      <td>0</td>\n",
              "      <td>0</td>\n",
              "      <td>0</td>\n",
              "      <td>0</td>\n",
              "      <td>0</td>\n",
              "      <td>0</td>\n",
              "      <td>0</td>\n",
              "      <td>5</td>\n",
              "    </tr>\n",
              "    <tr>\n",
              "      <th>1</th>\n",
              "      <td>2590</td>\n",
              "      <td>56</td>\n",
              "      <td>2</td>\n",
              "      <td>212</td>\n",
              "      <td>-6</td>\n",
              "      <td>390</td>\n",
              "      <td>220</td>\n",
              "      <td>235</td>\n",
              "      <td>151</td>\n",
              "      <td>6225</td>\n",
              "      <td>...</td>\n",
              "      <td>0</td>\n",
              "      <td>0</td>\n",
              "      <td>0</td>\n",
              "      <td>0</td>\n",
              "      <td>0</td>\n",
              "      <td>0</td>\n",
              "      <td>0</td>\n",
              "      <td>0</td>\n",
              "      <td>0</td>\n",
              "      <td>5</td>\n",
              "    </tr>\n",
              "    <tr>\n",
              "      <th>2</th>\n",
              "      <td>2804</td>\n",
              "      <td>139</td>\n",
              "      <td>9</td>\n",
              "      <td>268</td>\n",
              "      <td>65</td>\n",
              "      <td>3180</td>\n",
              "      <td>234</td>\n",
              "      <td>238</td>\n",
              "      <td>135</td>\n",
              "      <td>6121</td>\n",
              "      <td>...</td>\n",
              "      <td>0</td>\n",
              "      <td>0</td>\n",
              "      <td>0</td>\n",
              "      <td>0</td>\n",
              "      <td>0</td>\n",
              "      <td>0</td>\n",
              "      <td>0</td>\n",
              "      <td>0</td>\n",
              "      <td>0</td>\n",
              "      <td>2</td>\n",
              "    </tr>\n",
              "    <tr>\n",
              "      <th>3</th>\n",
              "      <td>2785</td>\n",
              "      <td>155</td>\n",
              "      <td>18</td>\n",
              "      <td>242</td>\n",
              "      <td>118</td>\n",
              "      <td>3090</td>\n",
              "      <td>238</td>\n",
              "      <td>238</td>\n",
              "      <td>122</td>\n",
              "      <td>6211</td>\n",
              "      <td>...</td>\n",
              "      <td>0</td>\n",
              "      <td>0</td>\n",
              "      <td>0</td>\n",
              "      <td>0</td>\n",
              "      <td>0</td>\n",
              "      <td>0</td>\n",
              "      <td>0</td>\n",
              "      <td>0</td>\n",
              "      <td>0</td>\n",
              "      <td>2</td>\n",
              "    </tr>\n",
              "    <tr>\n",
              "      <th>4</th>\n",
              "      <td>2595</td>\n",
              "      <td>45</td>\n",
              "      <td>2</td>\n",
              "      <td>153</td>\n",
              "      <td>-1</td>\n",
              "      <td>391</td>\n",
              "      <td>220</td>\n",
              "      <td>234</td>\n",
              "      <td>150</td>\n",
              "      <td>6172</td>\n",
              "      <td>...</td>\n",
              "      <td>0</td>\n",
              "      <td>0</td>\n",
              "      <td>0</td>\n",
              "      <td>0</td>\n",
              "      <td>0</td>\n",
              "      <td>0</td>\n",
              "      <td>0</td>\n",
              "      <td>0</td>\n",
              "      <td>0</td>\n",
              "      <td>5</td>\n",
              "    </tr>\n",
              "  </tbody>\n",
              "</table>\n",
              "<p>5 rows × 55 columns</p>\n",
              "</div>"
            ],
            "text/plain": [
              "   Elevation  Aspect  Slope  Horizontal_Distance_To_Hydrology  \\\n",
              "0       2596      51      3                               258   \n",
              "1       2590      56      2                               212   \n",
              "2       2804     139      9                               268   \n",
              "3       2785     155     18                               242   \n",
              "4       2595      45      2                               153   \n",
              "\n",
              "   Vertical_Distance_To_Hydrology  Horizontal_Distance_To_Roadways  \\\n",
              "0                               0                              510   \n",
              "1                              -6                              390   \n",
              "2                              65                             3180   \n",
              "3                             118                             3090   \n",
              "4                              -1                              391   \n",
              "\n",
              "   Hillshade_9am  Hillshade_Noon  Hillshade_3pm  \\\n",
              "0            221             232            148   \n",
              "1            220             235            151   \n",
              "2            234             238            135   \n",
              "3            238             238            122   \n",
              "4            220             234            150   \n",
              "\n",
              "   Horizontal_Distance_To_Fire_Points  ...  Soil_Type_31  Soil_Type_32  \\\n",
              "0                                6279  ...             0             0   \n",
              "1                                6225  ...             0             0   \n",
              "2                                6121  ...             0             0   \n",
              "3                                6211  ...             0             0   \n",
              "4                                6172  ...             0             0   \n",
              "\n",
              "   Soil_Type_33  Soil_Type_34  Soil_Type_35  Soil_Type_36  Soil_Type_37  \\\n",
              "0             0             0             0             0             0   \n",
              "1             0             0             0             0             0   \n",
              "2             0             0             0             0             0   \n",
              "3             0             0             0             0             0   \n",
              "4             0             0             0             0             0   \n",
              "\n",
              "   Soil_Type_38  Soil_Type_39  Cover_Type  \n",
              "0             0             0           5  \n",
              "1             0             0           5  \n",
              "2             0             0           2  \n",
              "3             0             0           2  \n",
              "4             0             0           5  \n",
              "\n",
              "[5 rows x 55 columns]"
            ]
          },
          "execution_count": 5,
          "metadata": {},
          "output_type": "execute_result"
        }
      ],
      "source": [
        "# Para ver el tipo de datos que arroja el conjunto de datos, se utiliza el método head(), el cual trae los primeros cinco resultados, pudiendo ver que ningún dato esta faltante; \n",
        "# también se puede apreciar la clsificación de las clases.\n",
        "datosArchivo.head()"
      ]
    },
    {
      "cell_type": "markdown",
      "metadata": {},
      "source": [
        "## Separación de Datos"
      ]
    },
    {
      "cell_type": "markdown",
      "metadata": {},
      "source": [
        "Para pasar al entrenamiento de datos se requiere previamente haber entrenado los datos. Como primer paso los datos se dividen en X y Y, basandosé en si los datos son dependientes o indepedientes, posterior a eso se dvididen los datos en 70% entrenamiento y 30% de prueba, finalmente pasan al escalado."
      ]
    },
    {
      "cell_type": "code",
      "execution_count": 6,
      "metadata": {
        "id": "2nSZtUYvE2Cr"
      },
      "outputs": [],
      "source": [
        "# Se separan las características y las etiquetas\n",
        "X = datosArchivo.drop(\"Cover_Type\", axis=1)\n",
        "y = datosArchivo[\"Cover_Type\"]"
      ]
    },
    {
      "cell_type": "code",
      "execution_count": 7,
      "metadata": {
        "id": "QuUlkQA9E3lN"
      },
      "outputs": [],
      "source": [
        "# Se dividen los datos en conjuntos de 70% de entrenamiento y 30% de prueba\n",
        "X_train, X_test, y_train, y_test = train_test_split(X, y, test_size=0.3, random_state=42)"
      ]
    },
    {
      "cell_type": "code",
      "execution_count": 8,
      "metadata": {
        "id": "34DE5VxaFAT-"
      },
      "outputs": [],
      "source": [
        "# Se escalan los datos\n",
        "scaler = StandardScaler()\n",
        "X_train = scaler.fit_transform(X_train)\n",
        "X_test = scaler.transform(X_test)"
      ]
    },
    {
      "cell_type": "markdown",
      "metadata": {},
      "source": [
        "## Entrenando los modelos"
      ]
    },
    {
      "cell_type": "markdown",
      "metadata": {},
      "source": [
        "Para evaluar los resultados de forma individual, decidí poner cada uno de forma individual en lugar de hacer un ciclo que requiriera ponerlos todos. Esto se debe a que tardaba demasiado y pensé que se verían más limpios los resultados de esta manera, algo que hay que mencionar es que al final de cada modelo se utiliza el método de classification_report, el cual imprime un informe de clasificación que compara las etiquetas reales del conjunto de prueba y_test con las etiquetas predichas y_pred_svm. Este informe incluye métricas como precisión, recall, F1-score y soporte."
      ]
    },
    {
      "cell_type": "markdown",
      "metadata": {},
      "source": [
        "En el caso del resultado obtenido por medio de SVM se puede decir que no le fue tan bien al obtener 79% de accuracy, además de que en otros no le fue mejor."
      ]
    },
    {
      "cell_type": "code",
      "execution_count": 9,
      "metadata": {
        "id": "u9QRqDrcFKlk"
      },
      "outputs": [
        {
          "name": "stdout",
          "output_type": "stream",
          "text": [
            "Classification Report for SVM:\n",
            "              precision    recall  f1-score   support\n",
            "\n",
            "           1       0.80      0.75      0.78     63556\n",
            "           2       0.79      0.86      0.83     85078\n",
            "           3       0.74      0.87      0.80     10638\n",
            "           4       0.74      0.43      0.55       795\n",
            "           5       0.80      0.12      0.20      2941\n",
            "           6       0.67      0.40      0.50      5227\n",
            "           7       0.85      0.74      0.79      6069\n",
            "\n",
            "    accuracy                           0.79    174304\n",
            "   macro avg       0.77      0.60      0.63    174304\n",
            "weighted avg       0.79      0.79      0.78    174304\n",
            "\n",
            "\n",
            "------------------------------------------------------------\n",
            "\n"
          ]
        }
      ],
      "source": [
        "# Entrena y evalúa el modelo de Máquinas de Vectores de Soporte (SVM)\n",
        "svm_model = SVC()\n",
        "svm_model.fit(X_train, y_train)\n",
        "y_pred_svm = svm_model.predict(X_test)\n",
        "print(\"Classification Report for SVM:\")\n",
        "print(classification_report(y_test, y_pred_svm))\n",
        "print(\"\\n\" + \"-\"*60 + \"\\n\")"
      ]
    },
    {
      "cell_type": "markdown",
      "metadata": {},
      "source": [
        "El resultado obtenido por medio de K-Neighbors fue mejor de lo esperado, ya que obtuvo un resultado de 92% de accuracy, además de que en lo demás saco un puntaje un poco más alto."
      ]
    },
    {
      "cell_type": "code",
      "execution_count": 24,
      "metadata": {
        "colab": {
          "base_uri": "https://localhost:8080/"
        },
        "id": "vbvWFJ5MFPC6",
        "outputId": "81aca73c-32e9-4919-fae1-1ee47a663758"
      },
      "outputs": [
        {
          "name": "stdout",
          "output_type": "stream",
          "text": [
            "Classification Report for K-Neighbors:\n",
            "              precision    recall  f1-score   support\n",
            "\n",
            "           1       0.93      0.92      0.93     63556\n",
            "           2       0.93      0.94      0.94     85078\n",
            "           3       0.90      0.91      0.90     10638\n",
            "           4       0.85      0.73      0.78       795\n",
            "           5       0.84      0.75      0.79      2941\n",
            "           6       0.82      0.80      0.81      5227\n",
            "           7       0.94      0.94      0.94      6069\n",
            "\n",
            "    accuracy                           0.92    174304\n",
            "   macro avg       0.89      0.86      0.87    174304\n",
            "weighted avg       0.92      0.92      0.92    174304\n",
            "\n",
            "\n",
            "------------------------------------------------------------\n",
            "\n"
          ]
        }
      ],
      "source": [
        "# Entrena y evalúa el modelo de K-Neighbors\n",
        "knn_model = KNeighborsClassifier()\n",
        "knn_model.fit(X_train, y_train)\n",
        "y_pred_knn = knn_model.predict(X_test)\n",
        "print(\"Classification Report for K-Neighbors:\")\n",
        "print(classification_report(y_test, y_pred_knn))\n",
        "print(\"\\n\" + \"-\"*60 + \"\\n\")\n"
      ]
    },
    {
      "cell_type": "markdown",
      "metadata": {},
      "source": [
        "El resultado obtenido por medio de Decision Tree fue muy bueno, ya que obtuvo un resultado de 93% de accuracy, pero en este caso la métrica permaneció igual en los otros métodos."
      ]
    },
    {
      "cell_type": "code",
      "execution_count": 22,
      "metadata": {
        "colab": {
          "base_uri": "https://localhost:8080/"
        },
        "id": "jMkJk4gGfevw",
        "outputId": "de03a8e8-b804-421b-b5d1-31b52acfbe36"
      },
      "outputs": [
        {
          "name": "stdout",
          "output_type": "stream",
          "text": [
            "Classification Report for Decision Tree:\n",
            "              precision    recall  f1-score   support\n",
            "\n",
            "           1       0.93      0.93      0.93     63556\n",
            "           2       0.94      0.94      0.94     85078\n",
            "           3       0.92      0.93      0.93     10638\n",
            "           4       0.84      0.84      0.84       795\n",
            "           5       0.81      0.81      0.81      2941\n",
            "           6       0.87      0.86      0.87      5227\n",
            "           7       0.94      0.95      0.94      6069\n",
            "\n",
            "    accuracy                           0.93    174304\n",
            "   macro avg       0.90      0.89      0.90    174304\n",
            "weighted avg       0.93      0.93      0.93    174304\n",
            "\n",
            "\n",
            "------------------------------------------------------------\n",
            "\n"
          ]
        }
      ],
      "source": [
        "# Entrena y evalúa el modelo de Decision Tree\n",
        "dt_model = DecisionTreeClassifier()\n",
        "dt_model.fit(X_train, y_train)\n",
        "y_pred_dt = dt_model.predict(X_test)\n",
        "print(\"Classification Report for Decision Tree:\")\n",
        "print(classification_report(y_test, y_pred_dt))\n",
        "print(\"\\n\" + \"-\"*60 + \"\\n\")\n"
      ]
    },
    {
      "cell_type": "markdown",
      "metadata": {},
      "source": [
        "El resultado obtenido por medio de Random Forest fue el mejor de todos los clasificadores, ya que obtuvo un resultado de 95% de accuracy, pero algo curioso es que en en la precisión sube a 96 y en la parte de recall baja a 94. Dejando esto del lado, fue el mejor de todos los clasificadores utilizados en la práctica."
      ]
    },
    {
      "cell_type": "code",
      "execution_count": 23,
      "metadata": {
        "colab": {
          "base_uri": "https://localhost:8080/"
        },
        "id": "o_W0ok09FSDr",
        "outputId": "58199d12-d7ad-4663-bafd-3d641ed18a92"
      },
      "outputs": [
        {
          "name": "stdout",
          "output_type": "stream",
          "text": [
            "Classification Report for Random Forest:\n",
            "              precision    recall  f1-score   support\n",
            "\n",
            "           1       0.96      0.94      0.95     63556\n",
            "           2       0.95      0.97      0.96     85078\n",
            "           3       0.94      0.96      0.95     10638\n",
            "           4       0.92      0.86      0.89       795\n",
            "           5       0.94      0.75      0.84      2941\n",
            "           6       0.93      0.89      0.91      5227\n",
            "           7       0.97      0.95      0.96      6069\n",
            "\n",
            "    accuracy                           0.95    174304\n",
            "   macro avg       0.94      0.90      0.92    174304\n",
            "weighted avg       0.95      0.95      0.95    174304\n",
            "\n",
            "\n",
            "------------------------------------------------------------\n",
            "\n"
          ]
        }
      ],
      "source": [
        "# Entrena y evalúa el modelo de Random Forest\n",
        "rf_model = RandomForestClassifier()\n",
        "rf_model.fit(X_train, y_train)\n",
        "y_pred_rf = rf_model.predict(X_test)\n",
        "print(\"Classification Report for Random Forest:\")\n",
        "print(classification_report(y_test, y_pred_rf))\n",
        "print(\"\\n\" + \"-\"*60 + \"\\n\")\n"
      ]
    },
    {
      "cell_type": "markdown",
      "metadata": {},
      "source": [
        "El resultado obtenido por medio de Gradient Boosting no fue bueno, ya que obtuvo un resultado de 77% de accuracy, siendo el resultado más bajo obtenido por medio de los clasificadores ."
      ]
    },
    {
      "cell_type": "code",
      "execution_count": 25,
      "metadata": {
        "colab": {
          "base_uri": "https://localhost:8080/"
        },
        "id": "Tk4HF--NnQ8e",
        "outputId": "0b83aafe-57d4-4a0b-cba5-f86e593848b8"
      },
      "outputs": [
        {
          "name": "stdout",
          "output_type": "stream",
          "text": [
            "Classification Report for Gradient Boosting:\n",
            "              precision    recall  f1-score   support\n",
            "\n",
            "           1       0.76      0.75      0.75     63556\n",
            "           2       0.78      0.82      0.80     85078\n",
            "           3       0.77      0.83      0.80     10638\n",
            "           4       0.79      0.74      0.77       795\n",
            "           5       0.75      0.23      0.36      2941\n",
            "           6       0.66      0.48      0.55      5227\n",
            "           7       0.87      0.70      0.77      6069\n",
            "\n",
            "    accuracy                           0.77    174304\n",
            "   macro avg       0.77      0.65      0.69    174304\n",
            "weighted avg       0.77      0.77      0.77    174304\n",
            "\n",
            "\n",
            "------------------------------------------------------------\n",
            "\n"
          ]
        }
      ],
      "source": [
        "# Entrena y evalúa el modelo de Gradient Boosting\n",
        "gb_model = GradientBoostingClassifier()\n",
        "gb_model.fit(X_train, y_train)\n",
        "y_pred_gb = gb_model.predict(X_test)\n",
        "print(\"Classification Report for Gradient Boosting:\")\n",
        "print(classification_report(y_test, y_pred_gb))\n",
        "print(\"\\n\" + \"-\"*60 + \"\\n\")\n"
      ]
    },
    {
      "cell_type": "markdown",
      "metadata": {},
      "source": [
        "El resultado obtenido por medio de una red neuronal fue bueno, obteniendo un resultado de 87% de accuracy, algo interesante que se ve es que consiguió una precisión de 90%, 81% de recall y 86% de f1 score, todo muy variado."
      ]
    },
    {
      "cell_type": "code",
      "execution_count": 27,
      "metadata": {
        "colab": {
          "base_uri": "https://localhost:8080/"
        },
        "id": "FjjEP4zynVFK",
        "outputId": "488df1ee-1003-435a-d5d1-f1f0663ecc5a"
      },
      "outputs": [
        {
          "name": "stderr",
          "output_type": "stream",
          "text": [
            "/usr/local/lib/python3.10/dist-packages/sklearn/neural_network/_multilayer_perceptron.py:686: ConvergenceWarning: Stochastic Optimizer: Maximum iterations (300) reached and the optimization hasn't converged yet.\n",
            "  warnings.warn(\n"
          ]
        },
        {
          "name": "stdout",
          "output_type": "stream",
          "text": [
            "Classification Report for Neural Network:\n",
            "              precision    recall  f1-score   support\n",
            "\n",
            "           1       0.90      0.81      0.86     63556\n",
            "           2       0.86      0.92      0.89     85078\n",
            "           3       0.86      0.87      0.87     10638\n",
            "           4       0.85      0.75      0.80       795\n",
            "           5       0.75      0.54      0.63      2941\n",
            "           6       0.77      0.74      0.75      5227\n",
            "           7       0.85      0.92      0.89      6069\n",
            "\n",
            "    accuracy                           0.87    174304\n",
            "   macro avg       0.83      0.79      0.81    174304\n",
            "weighted avg       0.87      0.87      0.87    174304\n",
            "\n",
            "\n",
            "------------------------------------------------------------\n",
            "\n"
          ]
        }
      ],
      "source": [
        "# Entrena y evalúa el modelo de Neural Network\n",
        "nn_model = MLPClassifier(max_iter=300)\n",
        "nn_model.fit(X_train, y_train)\n",
        "y_pred_nn = nn_model.predict(X_test)\n",
        "print(\"Classification Report for Neural Network:\")\n",
        "print(classification_report(y_test, y_pred_nn))\n",
        "print(\"\\n\" + \"-\"*60 + \"\\n\")\n"
      ]
    },
    {
      "cell_type": "markdown",
      "metadata": {},
      "source": [
        "Como último paso para la comparativa entre modelos de clasificación, se requiere utilizar un ensamble que abarque todo lo anteriormente utilizado pero al mismo tiempo combinarlos para ver si con esto se obtiene un mejor resultado. El ensamblaje VotingClassifier logro una alta precisión y exactitud global del 92%. Sin embargo, hay algunas clases específicas donde el recall es más bajo, lo que indica que hay margen de mejora en la identificación correcta de todos los casos de esas clases. En general, el uso de múltiples clasificadores ha permitido obtener un desempeño robusto y equilibrado."
      ]
    },
    {
      "cell_type": "code",
      "execution_count": 10,
      "metadata": {
        "id": "rgCWyXbDnbhO"
      },
      "outputs": [
        {
          "name": "stdout",
          "output_type": "stream",
          "text": [
            "Classification Report for Voting Ensemble:\n",
            "              precision    recall  f1-score   support\n",
            "\n",
            "           1       0.91      0.93      0.92     63556\n",
            "           2       0.93      0.94      0.93     85078\n",
            "           3       0.88      0.93      0.90     10638\n",
            "           4       0.92      0.77      0.84       795\n",
            "           5       0.95      0.55      0.70      2941\n",
            "           6       0.92      0.72      0.81      5227\n",
            "           7       0.97      0.89      0.93      6069\n",
            "\n",
            "    accuracy                           0.92    174304\n",
            "   macro avg       0.93      0.82      0.86    174304\n",
            "weighted avg       0.92      0.92      0.92    174304\n",
            "\n"
          ]
        }
      ],
      "source": [
        "# Se crea  el ensamble de VotingClassifier\n",
        "ensemble = VotingClassifier(estimators=[\n",
        "    ('svc', SVC()),\n",
        "    ('knn', KNeighborsClassifier()),\n",
        "    ('dt', DecisionTreeClassifier()),\n",
        "    ('rf', RandomForestClassifier()),\n",
        "    ('gb', GradientBoostingClassifier()),\n",
        "    ('nn', MLPClassifier(max_iter=300))\n",
        "], voting='hard')\n",
        "\n",
        "# Entrena y evalua el ensamble\n",
        "ensemble.fit(X_train, y_train)\n",
        "y_pred_ensemble = ensemble.predict(X_test)\n",
        "print(\"Classification Report for Voting Ensemble:\")\n",
        "print(classification_report(y_test, y_pred_ensemble))"
      ]
    },
    {
      "cell_type": "markdown",
      "metadata": {},
      "source": [
        "El uso de un ensamble de modelos (VotingClassifier) proporcionó la mejor precisión, alcanzando aproximadamente un 92%. Esto demuestra la ventaja de combinar varios modelos para mejorar la precisión y robustez del sistema de clasificación, sin embargo se puede decir que le fue bien pero no tan bien como al clasificador Random Forest. De igual forma se puede decir que cada modelo individual ofreció contribuciones valiosas y mostró puntos fuertes en diferentes aspectos, pero el enfoque de ensamble fue uno de los más efectivo para este conjunto de datos, junto con Random Forest, Decision Tree y K-Neighbors.\n",
        "\n",
        "En conclusión, el proyecto nos muestra la importancia de evaluar múltiples modelos y enfoques en problemas de clasificación, destacando cómo las técnicas de ensamble pueden mejorar el rendimiento predictivo. La variabilidad en las precisiones refleja la naturaleza diversa y compleja de los datos de cubiertas de terreno, subrayando la necesidad de enfoques robustos y bien calibrados para tareas de clasificación en el ámbito de la ciencia de datos.\n",
        "\n",
        "Un comentario muy personal es que no pensé que los clasificadores tomarán tanto tiempo en ejecutarse, creo que se debió más que nada a mi computadora, ya que tardo seis horas con unos mninutos en poder ejecutar el ensamble. Además, me parece genial lo del ensamble, jamás lo había utilizado y pienso que dio buen resultado, pero de igual forma siento que otros clasificadores lo hicieron casi tan bueno o mejor que el ensamble, así que sirvió este ejercicio para aprender más de como tratar con clasificadores, compararlos y ver a cual de ellos le fue mejor."
      ]
    }
  ],
  "metadata": {
    "colab": {
      "provenance": []
    },
    "kernelspec": {
      "display_name": "Python 3",
      "name": "python3"
    },
    "language_info": {
      "codemirror_mode": {
        "name": "ipython",
        "version": 3
      },
      "file_extension": ".py",
      "mimetype": "text/x-python",
      "name": "python",
      "nbconvert_exporter": "python",
      "pygments_lexer": "ipython3",
      "version": "3.11.5"
    }
  },
  "nbformat": 4,
  "nbformat_minor": 0
}

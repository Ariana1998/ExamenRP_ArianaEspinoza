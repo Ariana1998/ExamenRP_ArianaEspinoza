{
  "cells": [
    {
      "cell_type": "markdown",
      "metadata": {},
      "source": [
        "# Evaluación Reconocimiento de Patrones\n",
        "Ariana Espinoza"
      ]
    },
    {
      "cell_type": "markdown",
      "metadata": {},
      "source": [
        "<style>\n",
        "    .imagen-ajustada {\n",
        "        width: 900px;\n",
        "        height: 280px;\n",
        "        border-radius: 20px;\n",
        "    }\n",
        "</style>\n",
        "\n",
        "<img src=\"Bosque.jpeg\" alt=\"Una imagen\" class=\"imagen-ajustada\">"
      ]
    },
    {
      "cell_type": "markdown",
      "metadata": {},
      "source": [
        "## Importando Librerías Necesarias"
      ]
    },
    {
      "cell_type": "code",
      "execution_count": 1,
      "metadata": {
        "id": "uQO7soXpCYGv"
      },
      "outputs": [],
      "source": [
        "import pandas as pd\n",
        "from sklearn.model_selection import train_test_split\n",
        "from sklearn.preprocessing import StandardScaler\n",
        "from sklearn.svm import SVC\n",
        "from sklearn.neighbors import KNeighborsClassifier\n",
        "from sklearn.tree import DecisionTreeClassifier\n",
        "from sklearn.ensemble import RandomForestClassifier, GradientBoostingClassifier, VotingClassifier\n",
        "from sklearn.neural_network import MLPClassifier\n",
        "from sklearn.metrics import classification_report"
      ]
    },
    {
      "cell_type": "code",
      "execution_count": 2,
      "metadata": {
        "id": "5tZNUNdyC3NW"
      },
      "outputs": [],
      "source": [
        "# Cargar los datos\n",
        "url = \"https://archive.ics.uci.edu/ml/machine-learning-databases/covtype/covtype.data.gz\"\n",
        "column_names = [\"Elevation\", \"Aspect\", \"Slope\", \"Horizontal_Distance_To_Hydrology\",\n",
        "                \"Vertical_Distance_To_Hydrology\", \"Horizontal_Distance_To_Roadways\",\n",
        "                \"Hillshade_9am\", \"Hillshade_Noon\", \"Hillshade_3pm\",\n",
        "                \"Horizontal_Distance_To_Fire_Points\"] + [f\"Wilderness_Area_{i}\" for i in range(4)] + \\\n",
        "                [f\"Soil_Type_{i}\" for i in range(40)] + [\"Cover_Type\"]\n",
        "datos = pd.read_csv(url, header=None, names=column_names)"
      ]
    },
    {
      "cell_type": "code",
      "execution_count": 3,
      "metadata": {
        "id": "ncmhMaDOztc2"
      },
      "outputs": [],
      "source": [
        "datos.to_csv(\"covertype_datos.csv\", index=False)"
      ]
    },
    {
      "cell_type": "code",
      "execution_count": 4,
      "metadata": {
        "id": "jnFq9lntz6Ge"
      },
      "outputs": [],
      "source": [
        "# Se lee el archivo .CSV\n",
        "datosArchivo = pd.read_csv(\"covertype_datos.csv\")"
      ]
    },
    {
      "cell_type": "code",
      "execution_count": 5,
      "metadata": {
        "colab": {
          "base_uri": "https://localhost:8080/",
          "height": 255
        },
        "id": "wCE4fZFE0rxe",
        "outputId": "7d4ca454-2246-445d-91cd-150da6470903"
      },
      "outputs": [
        {
          "data": {
            "text/html": [
              "<div>\n",
              "<style scoped>\n",
              "    .dataframe tbody tr th:only-of-type {\n",
              "        vertical-align: middle;\n",
              "    }\n",
              "\n",
              "    .dataframe tbody tr th {\n",
              "        vertical-align: top;\n",
              "    }\n",
              "\n",
              "    .dataframe thead th {\n",
              "        text-align: right;\n",
              "    }\n",
              "</style>\n",
              "<table border=\"1\" class=\"dataframe\">\n",
              "  <thead>\n",
              "    <tr style=\"text-align: right;\">\n",
              "      <th></th>\n",
              "      <th>Elevation</th>\n",
              "      <th>Aspect</th>\n",
              "      <th>Slope</th>\n",
              "      <th>Horizontal_Distance_To_Hydrology</th>\n",
              "      <th>Vertical_Distance_To_Hydrology</th>\n",
              "      <th>Horizontal_Distance_To_Roadways</th>\n",
              "      <th>Hillshade_9am</th>\n",
              "      <th>Hillshade_Noon</th>\n",
              "      <th>Hillshade_3pm</th>\n",
              "      <th>Horizontal_Distance_To_Fire_Points</th>\n",
              "      <th>...</th>\n",
              "      <th>Soil_Type_31</th>\n",
              "      <th>Soil_Type_32</th>\n",
              "      <th>Soil_Type_33</th>\n",
              "      <th>Soil_Type_34</th>\n",
              "      <th>Soil_Type_35</th>\n",
              "      <th>Soil_Type_36</th>\n",
              "      <th>Soil_Type_37</th>\n",
              "      <th>Soil_Type_38</th>\n",
              "      <th>Soil_Type_39</th>\n",
              "      <th>Cover_Type</th>\n",
              "    </tr>\n",
              "  </thead>\n",
              "  <tbody>\n",
              "    <tr>\n",
              "      <th>0</th>\n",
              "      <td>2596</td>\n",
              "      <td>51</td>\n",
              "      <td>3</td>\n",
              "      <td>258</td>\n",
              "      <td>0</td>\n",
              "      <td>510</td>\n",
              "      <td>221</td>\n",
              "      <td>232</td>\n",
              "      <td>148</td>\n",
              "      <td>6279</td>\n",
              "      <td>...</td>\n",
              "      <td>0</td>\n",
              "      <td>0</td>\n",
              "      <td>0</td>\n",
              "      <td>0</td>\n",
              "      <td>0</td>\n",
              "      <td>0</td>\n",
              "      <td>0</td>\n",
              "      <td>0</td>\n",
              "      <td>0</td>\n",
              "      <td>5</td>\n",
              "    </tr>\n",
              "    <tr>\n",
              "      <th>1</th>\n",
              "      <td>2590</td>\n",
              "      <td>56</td>\n",
              "      <td>2</td>\n",
              "      <td>212</td>\n",
              "      <td>-6</td>\n",
              "      <td>390</td>\n",
              "      <td>220</td>\n",
              "      <td>235</td>\n",
              "      <td>151</td>\n",
              "      <td>6225</td>\n",
              "      <td>...</td>\n",
              "      <td>0</td>\n",
              "      <td>0</td>\n",
              "      <td>0</td>\n",
              "      <td>0</td>\n",
              "      <td>0</td>\n",
              "      <td>0</td>\n",
              "      <td>0</td>\n",
              "      <td>0</td>\n",
              "      <td>0</td>\n",
              "      <td>5</td>\n",
              "    </tr>\n",
              "    <tr>\n",
              "      <th>2</th>\n",
              "      <td>2804</td>\n",
              "      <td>139</td>\n",
              "      <td>9</td>\n",
              "      <td>268</td>\n",
              "      <td>65</td>\n",
              "      <td>3180</td>\n",
              "      <td>234</td>\n",
              "      <td>238</td>\n",
              "      <td>135</td>\n",
              "      <td>6121</td>\n",
              "      <td>...</td>\n",
              "      <td>0</td>\n",
              "      <td>0</td>\n",
              "      <td>0</td>\n",
              "      <td>0</td>\n",
              "      <td>0</td>\n",
              "      <td>0</td>\n",
              "      <td>0</td>\n",
              "      <td>0</td>\n",
              "      <td>0</td>\n",
              "      <td>2</td>\n",
              "    </tr>\n",
              "    <tr>\n",
              "      <th>3</th>\n",
              "      <td>2785</td>\n",
              "      <td>155</td>\n",
              "      <td>18</td>\n",
              "      <td>242</td>\n",
              "      <td>118</td>\n",
              "      <td>3090</td>\n",
              "      <td>238</td>\n",
              "      <td>238</td>\n",
              "      <td>122</td>\n",
              "      <td>6211</td>\n",
              "      <td>...</td>\n",
              "      <td>0</td>\n",
              "      <td>0</td>\n",
              "      <td>0</td>\n",
              "      <td>0</td>\n",
              "      <td>0</td>\n",
              "      <td>0</td>\n",
              "      <td>0</td>\n",
              "      <td>0</td>\n",
              "      <td>0</td>\n",
              "      <td>2</td>\n",
              "    </tr>\n",
              "    <tr>\n",
              "      <th>4</th>\n",
              "      <td>2595</td>\n",
              "      <td>45</td>\n",
              "      <td>2</td>\n",
              "      <td>153</td>\n",
              "      <td>-1</td>\n",
              "      <td>391</td>\n",
              "      <td>220</td>\n",
              "      <td>234</td>\n",
              "      <td>150</td>\n",
              "      <td>6172</td>\n",
              "      <td>...</td>\n",
              "      <td>0</td>\n",
              "      <td>0</td>\n",
              "      <td>0</td>\n",
              "      <td>0</td>\n",
              "      <td>0</td>\n",
              "      <td>0</td>\n",
              "      <td>0</td>\n",
              "      <td>0</td>\n",
              "      <td>0</td>\n",
              "      <td>5</td>\n",
              "    </tr>\n",
              "  </tbody>\n",
              "</table>\n",
              "<p>5 rows × 55 columns</p>\n",
              "</div>"
            ],
            "text/plain": [
              "   Elevation  Aspect  Slope  Horizontal_Distance_To_Hydrology  \\\n",
              "0       2596      51      3                               258   \n",
              "1       2590      56      2                               212   \n",
              "2       2804     139      9                               268   \n",
              "3       2785     155     18                               242   \n",
              "4       2595      45      2                               153   \n",
              "\n",
              "   Vertical_Distance_To_Hydrology  Horizontal_Distance_To_Roadways  \\\n",
              "0                               0                              510   \n",
              "1                              -6                              390   \n",
              "2                              65                             3180   \n",
              "3                             118                             3090   \n",
              "4                              -1                              391   \n",
              "\n",
              "   Hillshade_9am  Hillshade_Noon  Hillshade_3pm  \\\n",
              "0            221             232            148   \n",
              "1            220             235            151   \n",
              "2            234             238            135   \n",
              "3            238             238            122   \n",
              "4            220             234            150   \n",
              "\n",
              "   Horizontal_Distance_To_Fire_Points  ...  Soil_Type_31  Soil_Type_32  \\\n",
              "0                                6279  ...             0             0   \n",
              "1                                6225  ...             0             0   \n",
              "2                                6121  ...             0             0   \n",
              "3                                6211  ...             0             0   \n",
              "4                                6172  ...             0             0   \n",
              "\n",
              "   Soil_Type_33  Soil_Type_34  Soil_Type_35  Soil_Type_36  Soil_Type_37  \\\n",
              "0             0             0             0             0             0   \n",
              "1             0             0             0             0             0   \n",
              "2             0             0             0             0             0   \n",
              "3             0             0             0             0             0   \n",
              "4             0             0             0             0             0   \n",
              "\n",
              "   Soil_Type_38  Soil_Type_39  Cover_Type  \n",
              "0             0             0           5  \n",
              "1             0             0           5  \n",
              "2             0             0           2  \n",
              "3             0             0           2  \n",
              "4             0             0           5  \n",
              "\n",
              "[5 rows x 55 columns]"
            ]
          },
          "execution_count": 5,
          "metadata": {},
          "output_type": "execute_result"
        }
      ],
      "source": [
        "datosArchivo.head()"
      ]
    },
    {
      "cell_type": "code",
      "execution_count": 6,
      "metadata": {
        "id": "2nSZtUYvE2Cr"
      },
      "outputs": [],
      "source": [
        "# Separar las características y las etiquetas\n",
        "X = datosArchivo.drop(\"Cover_Type\", axis=1)\n",
        "y = datosArchivo[\"Cover_Type\"]"
      ]
    },
    {
      "cell_type": "code",
      "execution_count": 7,
      "metadata": {
        "id": "QuUlkQA9E3lN"
      },
      "outputs": [],
      "source": [
        "# Dividir los datos en conjuntos de entrenamiento y prueba\n",
        "X_train, X_test, y_train, y_test = train_test_split(X, y, test_size=0.3, random_state=42)"
      ]
    },
    {
      "cell_type": "code",
      "execution_count": 8,
      "metadata": {
        "id": "34DE5VxaFAT-"
      },
      "outputs": [],
      "source": [
        "# Escalar los datos\n",
        "scaler = StandardScaler()\n",
        "X_train = scaler.fit_transform(X_train)\n",
        "X_test = scaler.transform(X_test)"
      ]
    },
    {
      "cell_type": "code",
      "execution_count": 9,
      "metadata": {
        "id": "u9QRqDrcFKlk"
      },
      "outputs": [
        {
          "name": "stdout",
          "output_type": "stream",
          "text": [
            "Classification Report for SVM:\n",
            "              precision    recall  f1-score   support\n",
            "\n",
            "           1       0.80      0.75      0.78     63556\n",
            "           2       0.79      0.86      0.83     85078\n",
            "           3       0.74      0.87      0.80     10638\n",
            "           4       0.74      0.43      0.55       795\n",
            "           5       0.80      0.12      0.20      2941\n",
            "           6       0.67      0.40      0.50      5227\n",
            "           7       0.85      0.74      0.79      6069\n",
            "\n",
            "    accuracy                           0.79    174304\n",
            "   macro avg       0.77      0.60      0.63    174304\n",
            "weighted avg       0.79      0.79      0.78    174304\n",
            "\n",
            "\n",
            "------------------------------------------------------------\n",
            "\n"
          ]
        }
      ],
      "source": [
        "# Entrenamiento y evaluación del modelo SVM\n",
        "svm_model = SVC()\n",
        "svm_model.fit(X_train, y_train)\n",
        "y_pred_svm = svm_model.predict(X_test)\n",
        "print(\"Classification Report for SVM:\")\n",
        "print(classification_report(y_test, y_pred_svm))\n",
        "print(\"\\n\" + \"-\"*60 + \"\\n\")"
      ]
    },
    {
      "cell_type": "code",
      "execution_count": 24,
      "metadata": {
        "colab": {
          "base_uri": "https://localhost:8080/"
        },
        "id": "vbvWFJ5MFPC6",
        "outputId": "81aca73c-32e9-4919-fae1-1ee47a663758"
      },
      "outputs": [
        {
          "name": "stdout",
          "output_type": "stream",
          "text": [
            "Classification Report for K-Neighbors:\n",
            "              precision    recall  f1-score   support\n",
            "\n",
            "           1       0.93      0.92      0.93     63556\n",
            "           2       0.93      0.94      0.94     85078\n",
            "           3       0.90      0.91      0.90     10638\n",
            "           4       0.85      0.73      0.78       795\n",
            "           5       0.84      0.75      0.79      2941\n",
            "           6       0.82      0.80      0.81      5227\n",
            "           7       0.94      0.94      0.94      6069\n",
            "\n",
            "    accuracy                           0.92    174304\n",
            "   macro avg       0.89      0.86      0.87    174304\n",
            "weighted avg       0.92      0.92      0.92    174304\n",
            "\n",
            "\n",
            "------------------------------------------------------------\n",
            "\n"
          ]
        }
      ],
      "source": [
        "# Entrenamiento y evaluación del modelo K-Neighbors\n",
        "knn_model = KNeighborsClassifier()\n",
        "knn_model.fit(X_train, y_train)\n",
        "y_pred_knn = knn_model.predict(X_test)\n",
        "print(\"Classification Report for K-Neighbors:\")\n",
        "print(classification_report(y_test, y_pred_knn))\n",
        "print(\"\\n\" + \"-\"*60 + \"\\n\")\n"
      ]
    },
    {
      "cell_type": "code",
      "execution_count": 22,
      "metadata": {
        "colab": {
          "base_uri": "https://localhost:8080/"
        },
        "id": "jMkJk4gGfevw",
        "outputId": "de03a8e8-b804-421b-b5d1-31b52acfbe36"
      },
      "outputs": [
        {
          "name": "stdout",
          "output_type": "stream",
          "text": [
            "Classification Report for Decision Tree:\n",
            "              precision    recall  f1-score   support\n",
            "\n",
            "           1       0.93      0.93      0.93     63556\n",
            "           2       0.94      0.94      0.94     85078\n",
            "           3       0.92      0.93      0.93     10638\n",
            "           4       0.84      0.84      0.84       795\n",
            "           5       0.81      0.81      0.81      2941\n",
            "           6       0.87      0.86      0.87      5227\n",
            "           7       0.94      0.95      0.94      6069\n",
            "\n",
            "    accuracy                           0.93    174304\n",
            "   macro avg       0.90      0.89      0.90    174304\n",
            "weighted avg       0.93      0.93      0.93    174304\n",
            "\n",
            "\n",
            "------------------------------------------------------------\n",
            "\n"
          ]
        }
      ],
      "source": [
        "# Entrenamiento y evaluación del modelo Decision Tree\n",
        "dt_model = DecisionTreeClassifier()\n",
        "dt_model.fit(X_train, y_train)\n",
        "y_pred_dt = dt_model.predict(X_test)\n",
        "print(\"Classification Report for Decision Tree:\")\n",
        "print(classification_report(y_test, y_pred_dt))\n",
        "print(\"\\n\" + \"-\"*60 + \"\\n\")\n"
      ]
    },
    {
      "cell_type": "code",
      "execution_count": 23,
      "metadata": {
        "colab": {
          "base_uri": "https://localhost:8080/"
        },
        "id": "o_W0ok09FSDr",
        "outputId": "58199d12-d7ad-4663-bafd-3d641ed18a92"
      },
      "outputs": [
        {
          "name": "stdout",
          "output_type": "stream",
          "text": [
            "Classification Report for Random Forest:\n",
            "              precision    recall  f1-score   support\n",
            "\n",
            "           1       0.96      0.94      0.95     63556\n",
            "           2       0.95      0.97      0.96     85078\n",
            "           3       0.94      0.96      0.95     10638\n",
            "           4       0.92      0.86      0.89       795\n",
            "           5       0.94      0.75      0.84      2941\n",
            "           6       0.93      0.89      0.91      5227\n",
            "           7       0.97      0.95      0.96      6069\n",
            "\n",
            "    accuracy                           0.95    174304\n",
            "   macro avg       0.94      0.90      0.92    174304\n",
            "weighted avg       0.95      0.95      0.95    174304\n",
            "\n",
            "\n",
            "------------------------------------------------------------\n",
            "\n"
          ]
        }
      ],
      "source": [
        "# Entrenamiento y evaluación del modelo Random Forest\n",
        "rf_model = RandomForestClassifier()\n",
        "rf_model.fit(X_train, y_train)\n",
        "y_pred_rf = rf_model.predict(X_test)\n",
        "print(\"Classification Report for Random Forest:\")\n",
        "print(classification_report(y_test, y_pred_rf))\n",
        "print(\"\\n\" + \"-\"*60 + \"\\n\")\n"
      ]
    },
    {
      "cell_type": "code",
      "execution_count": 25,
      "metadata": {
        "colab": {
          "base_uri": "https://localhost:8080/"
        },
        "id": "Tk4HF--NnQ8e",
        "outputId": "0b83aafe-57d4-4a0b-cba5-f86e593848b8"
      },
      "outputs": [
        {
          "name": "stdout",
          "output_type": "stream",
          "text": [
            "Classification Report for Gradient Boosting:\n",
            "              precision    recall  f1-score   support\n",
            "\n",
            "           1       0.76      0.75      0.75     63556\n",
            "           2       0.78      0.82      0.80     85078\n",
            "           3       0.77      0.83      0.80     10638\n",
            "           4       0.79      0.74      0.77       795\n",
            "           5       0.75      0.23      0.36      2941\n",
            "           6       0.66      0.48      0.55      5227\n",
            "           7       0.87      0.70      0.77      6069\n",
            "\n",
            "    accuracy                           0.77    174304\n",
            "   macro avg       0.77      0.65      0.69    174304\n",
            "weighted avg       0.77      0.77      0.77    174304\n",
            "\n",
            "\n",
            "------------------------------------------------------------\n",
            "\n"
          ]
        }
      ],
      "source": [
        "# Entrenamiento y evaluación del modelo Gradient Boosting\n",
        "gb_model = GradientBoostingClassifier()\n",
        "gb_model.fit(X_train, y_train)\n",
        "y_pred_gb = gb_model.predict(X_test)\n",
        "print(\"Classification Report for Gradient Boosting:\")\n",
        "print(classification_report(y_test, y_pred_gb))\n",
        "print(\"\\n\" + \"-\"*60 + \"\\n\")\n"
      ]
    },
    {
      "cell_type": "code",
      "execution_count": 27,
      "metadata": {
        "colab": {
          "base_uri": "https://localhost:8080/"
        },
        "id": "FjjEP4zynVFK",
        "outputId": "488df1ee-1003-435a-d5d1-f1f0663ecc5a"
      },
      "outputs": [
        {
          "name": "stderr",
          "output_type": "stream",
          "text": [
            "/usr/local/lib/python3.10/dist-packages/sklearn/neural_network/_multilayer_perceptron.py:686: ConvergenceWarning: Stochastic Optimizer: Maximum iterations (300) reached and the optimization hasn't converged yet.\n",
            "  warnings.warn(\n"
          ]
        },
        {
          "name": "stdout",
          "output_type": "stream",
          "text": [
            "Classification Report for Neural Network:\n",
            "              precision    recall  f1-score   support\n",
            "\n",
            "           1       0.90      0.81      0.86     63556\n",
            "           2       0.86      0.92      0.89     85078\n",
            "           3       0.86      0.87      0.87     10638\n",
            "           4       0.85      0.75      0.80       795\n",
            "           5       0.75      0.54      0.63      2941\n",
            "           6       0.77      0.74      0.75      5227\n",
            "           7       0.85      0.92      0.89      6069\n",
            "\n",
            "    accuracy                           0.87    174304\n",
            "   macro avg       0.83      0.79      0.81    174304\n",
            "weighted avg       0.87      0.87      0.87    174304\n",
            "\n",
            "\n",
            "------------------------------------------------------------\n",
            "\n"
          ]
        }
      ],
      "source": [
        "# Entrenamiento y evaluación del modelo Neural Network\n",
        "nn_model = MLPClassifier(max_iter=300)\n",
        "nn_model.fit(X_train, y_train)\n",
        "y_pred_nn = nn_model.predict(X_test)\n",
        "print(\"Classification Report for Neural Network:\")\n",
        "print(classification_report(y_test, y_pred_nn))\n",
        "print(\"\\n\" + \"-\"*60 + \"\\n\")\n"
      ]
    },
    {
      "cell_type": "code",
      "execution_count": 10,
      "metadata": {
        "id": "rgCWyXbDnbhO"
      },
      "outputs": [
        {
          "name": "stdout",
          "output_type": "stream",
          "text": [
            "Classification Report for Voting Ensemble:\n",
            "              precision    recall  f1-score   support\n",
            "\n",
            "           1       0.91      0.93      0.92     63556\n",
            "           2       0.93      0.94      0.93     85078\n",
            "           3       0.88      0.93      0.90     10638\n",
            "           4       0.92      0.77      0.84       795\n",
            "           5       0.95      0.55      0.70      2941\n",
            "           6       0.92      0.72      0.81      5227\n",
            "           7       0.97      0.89      0.93      6069\n",
            "\n",
            "    accuracy                           0.92    174304\n",
            "   macro avg       0.93      0.82      0.86    174304\n",
            "weighted avg       0.92      0.92      0.92    174304\n",
            "\n"
          ]
        }
      ],
      "source": [
        "# Crear el ensamble de VotingClassifier\n",
        "ensemble = VotingClassifier(estimators=[\n",
        "    ('svc', SVC()),\n",
        "    ('knn', KNeighborsClassifier()),\n",
        "    ('dt', DecisionTreeClassifier()),\n",
        "    ('rf', RandomForestClassifier()),\n",
        "    ('gb', GradientBoostingClassifier()),\n",
        "    ('nn', MLPClassifier(max_iter=300))\n",
        "], voting='hard')\n",
        "\n",
        "# Entrenar y evaluar el ensamble\n",
        "ensemble.fit(X_train, y_train)\n",
        "y_pred_ensemble = ensemble.predict(X_test)\n",
        "print(\"Classification Report for Voting Ensemble:\")\n",
        "print(classification_report(y_test, y_pred_ensemble))\n"
      ]
    }
  ],
  "metadata": {
    "colab": {
      "provenance": []
    },
    "kernelspec": {
      "display_name": "Python 3",
      "name": "python3"
    },
    "language_info": {
      "codemirror_mode": {
        "name": "ipython",
        "version": 3
      },
      "file_extension": ".py",
      "mimetype": "text/x-python",
      "name": "python",
      "nbconvert_exporter": "python",
      "pygments_lexer": "ipython3",
      "version": "3.11.5"
    }
  },
  "nbformat": 4,
  "nbformat_minor": 0
}
